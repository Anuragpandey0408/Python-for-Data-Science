{
 "cells": [
  {
   "cell_type": "code",
   "execution_count": 1,
   "metadata": {},
   "outputs": [],
   "source": [
    "import io"
   ]
  },
  {
   "cell_type": "markdown",
   "metadata": {},
   "source": [
    "buffer file in write mode"
   ]
  },
  {
   "cell_type": "code",
   "execution_count": 8,
   "metadata": {},
   "outputs": [],
   "source": [
    "with open(\"BufferFile.txt\",\"wb\") as bf:\n",
    "    Buffer_file = io.BufferedWriter(bf)\n",
    "    \n",
    "    Buffer_file.write(b\"This is my first line\\n\")\n",
    "    Buffer_file.write(b\"This is my second line\\n\")\n",
    "    \n",
    "    Buffer_file.flush()\n",
    "    \n",
    "    "
   ]
  },
  {
   "cell_type": "code",
   "execution_count": 6,
   "metadata": {},
   "outputs": [],
   "source": [
    "with open(\"BufferFile2.txt\",\"wb\") as bf:\n",
    "    Buffer_file2 = io.BufferedWriter(bf)\n",
    "    \n",
    "    Buffer_file2.write(b\"There are other directions to go, however. As we discussed,data science isnt just an IT role, its a business role too. \\n\")\n",
    "    Buffer_file2.write(b\"This is my second line\\n\")\n",
    "    \n",
    "    Buffer_file2.flush()\n"
   ]
  },
  {
   "cell_type": "markdown",
   "metadata": {},
   "source": [
    "buffer file in read mode\n",
    "during the time of reading we are define size, how data i read."
   ]
  },
  {
   "cell_type": "code",
   "execution_count": 12,
   "metadata": {},
   "outputs": [
    {
     "name": "stdout",
     "output_type": "stream",
     "text": [
      "b'There are other direction'\n"
     ]
    }
   ],
   "source": [
    "with open(\"BufferFile2.txt\",\"rb\") as bf:\n",
    "    Buffer_file2 = io.BufferedReader(bf)\n",
    "    print(Buffer_file2.read(25))\n",
    "    "
   ]
  },
  {
   "cell_type": "code",
   "execution_count": null,
   "metadata": {},
   "outputs": [],
   "source": []
  }
 ],
 "metadata": {
  "kernelspec": {
   "display_name": "Python 3",
   "language": "python",
   "name": "python3"
  },
  "language_info": {
   "codemirror_mode": {
    "name": "ipython",
    "version": 3
   },
   "file_extension": ".py",
   "mimetype": "text/x-python",
   "name": "python",
   "nbconvert_exporter": "python",
   "pygments_lexer": "ipython3",
   "version": "3.11.5"
  }
 },
 "nbformat": 4,
 "nbformat_minor": 2
}
