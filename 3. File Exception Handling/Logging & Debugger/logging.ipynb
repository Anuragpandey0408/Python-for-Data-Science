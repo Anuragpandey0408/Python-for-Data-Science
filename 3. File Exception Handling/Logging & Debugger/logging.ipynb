{
 "cells": [
  {
   "cell_type": "code",
   "execution_count": 2,
   "id": "7c33c6a9-45bf-488a-800d-3ba43d091fa7",
   "metadata": {
    "tags": []
   },
   "outputs": [],
   "source": [
    "import logging"
   ]
  },
  {
   "cell_type": "code",
   "execution_count": 3,
   "id": "07fb9a14-b5f8-4000-a940-23a0d428d87f",
   "metadata": {
    "tags": []
   },
   "outputs": [],
   "source": [
    "logging.basicConfig(filename=\"file2.log\",level=logging.INFO,format='%(asctime)s %(message)s')"
   ]
  },
  {
   "cell_type": "code",
   "execution_count": 5,
   "id": "6e1c0d37-6cfd-4e8d-a6bb-aae02efbbc8d",
   "metadata": {
    "tags": []
   },
   "outputs": [],
   "source": [
    "l = [1,2,3,4,5,[6,7,8,9],\"anurag\",\"arunendra\",\"naina\",\"prachi\"]"
   ]
  },
  {
   "cell_type": "code",
   "execution_count": 17,
   "id": "107329fd-c568-44c6-9944-9cc9cfa05092",
   "metadata": {
    "tags": []
   },
   "outputs": [],
   "source": [
    "intl1 = []\n",
    "strl2 = []          # this operation is for intiger\n",
    "for i in l:\n",
    "    logging.info(\"this operation is for interger {}\".format(l))\n",
    "    if type(i) == list:\n",
    "        logging.info(\"i am inside if statement and i am check list type\")\n",
    "        for j in i:\n",
    "            if type(j) == int:\n",
    "                intl1.append(j)\n",
    "    elif type(i) == int:\n",
    "        intl1.append(i)\n",
    "    else :\n",
    "        if type(i) == str:      #this operation is for string\n",
    "            strl2.append(i)\n",
    "            logging.info(\"my final result is for intiger list is {l1} and for string list is {l2}\".format(l1=intl1,l2=strl2))\n",
    "        "
   ]
  },
  {
   "cell_type": "code",
   "execution_count": 7,
   "id": "7f8de296-69ec-4600-ad37-3f772a1b5152",
   "metadata": {
    "tags": []
   },
   "outputs": [
    {
     "data": {
      "text/plain": [
       "[1, 2, 3, 4, 5, 6, 7, 8, 9]"
      ]
     },
     "execution_count": 7,
     "metadata": {},
     "output_type": "execute_result"
    }
   ],
   "source": [
    "intl1"
   ]
  },
  {
   "cell_type": "code",
   "execution_count": 8,
   "id": "468ca12f-36d9-4845-8eee-29a6c9b3809f",
   "metadata": {
    "tags": []
   },
   "outputs": [
    {
     "data": {
      "text/plain": [
       "['anurag', 'arunendra', 'naina', 'prachi']"
      ]
     },
     "execution_count": 8,
     "metadata": {},
     "output_type": "execute_result"
    }
   ],
   "source": [
    "strl2"
   ]
  },
  {
   "cell_type": "code",
   "execution_count": null,
   "id": "c912c0fa-5a0d-4c76-87dc-b8ccf3c9ea99",
   "metadata": {},
   "outputs": [],
   "source": []
  }
 ],
 "metadata": {
  "kernelspec": {
   "display_name": "Python 3 (ipykernel)",
   "language": "python",
   "name": "python3"
  },
  "language_info": {
   "codemirror_mode": {
    "name": "ipython",
    "version": 3
   },
   "file_extension": ".py",
   "mimetype": "text/x-python",
   "name": "python",
   "nbconvert_exporter": "python",
   "pygments_lexer": "ipython3",
   "version": "3.12.2"
  }
 },
 "nbformat": 4,
 "nbformat_minor": 5
}
