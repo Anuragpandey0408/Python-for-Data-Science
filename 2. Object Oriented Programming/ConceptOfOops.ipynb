{
 "cells": [
  {
   "cell_type": "markdown",
   "metadata": {},
   "source": [
    "Hybrid Inheritance\n"
   ]
  },
  {
   "cell_type": "code",
   "execution_count": 1,
   "metadata": {},
   "outputs": [],
   "source": [
    "# Base class 1\n",
    "class Base1:\n",
    "    def display1(self):\n",
    "        print(\"Base1 Display\")\n",
    "\n",
    "# Base class 2\n",
    "class Base2:\n",
    "    def display2(self):\n",
    "        print(\"Base2 Display\")\n",
    "\n",
    "# Derived class from Base1 and Base2\n",
    "class Derived(Base1, Base2):\n",
    "    def displayDerived(self):\n",
    "        print(\"Derived Display\")\n"
   ]
  },
  {
   "cell_type": "code",
   "execution_count": 2,
   "metadata": {},
   "outputs": [
    {
     "name": "stdout",
     "output_type": "stream",
     "text": [
      "Base1 Display\n",
      "Base2 Display\n",
      "Derived Display\n"
     ]
    }
   ],
   "source": [
    "obj = Derived()\n",
    "obj.display1()        # Accessing method from Base1\n",
    "obj.display2()        # Accessing method from Base2\n",
    "obj.displayDerived()  # Accessing method from Derived class\n"
   ]
  },
  {
   "cell_type": "markdown",
   "metadata": {},
   "source": [
    "Example of hybrid Inheritance"
   ]
  },
  {
   "cell_type": "code",
   "execution_count": 16,
   "metadata": {},
   "outputs": [],
   "source": [
    "#Base Class 1\n",
    "class Animal:\n",
    "    def __init__(self,name):\n",
    "        self.name = name\n",
    "        \n",
    "    def speak(self):\n",
    "        pass\n",
    "\n",
    "#Base Class 2\n",
    "class Mammal(Animal):\n",
    "    def give_birth(self):\n",
    "        print(f\"{self.name} is giving birth to live young\")\n",
    " \n",
    "#Base class 3      \n",
    "class Birds(Animal):\n",
    "    def lay_eggs(self):\n",
    "        print(f\"{self.name} is laying eggs\")\n",
    "\n",
    "#Derived class 1\n",
    "class Bat(Mammal,Birds):\n",
    "    def fly(self):\n",
    "        print(f\"{self.name} is flying\")  \n",
    "\n",
    "#derived class 2        \n",
    "class Dolphin(Mammal,Birds):\n",
    "    def swim(self):\n",
    "        print(f\"{self.name} is swimming\")     "
   ]
  },
  {
   "cell_type": "code",
   "execution_count": 7,
   "metadata": {},
   "outputs": [
    {
     "name": "stdout",
     "output_type": "stream",
     "text": [
      "Batman is giving birth to live young\n",
      "Batman is laying eggs\n",
      "Batman is flying\n"
     ]
    }
   ],
   "source": [
    "batman = Bat(\"Batman\")\n",
    "batman.speak()         # Inherited from Animal\n",
    "batman.give_birth()    # Inherited from Mammel\n",
    "batman.lay_eggs()      # Inherited from Birds\n",
    "batman.fly()           # Specific to Bat\n",
    "\n"
   ]
  },
  {
   "cell_type": "code",
   "execution_count": 18,
   "metadata": {},
   "outputs": [
    {
     "name": "stdout",
     "output_type": "stream",
     "text": [
      "Flipper is giving birth to live young\n",
      "Flipper is swimming\n",
      "Flipper is laying eggs\n"
     ]
    }
   ],
   "source": [
    "flipper = Dolphin(\"Flipper\")\n",
    "flipper.speak()\n",
    "flipper.give_birth()  # Inherited from Mammel\n",
    "flipper.swim()        # Specific To Dolphin\n",
    "flipper.lay_eggs()    #Inherited From Birds"
   ]
  },
  {
   "cell_type": "markdown",
   "metadata": {},
   "source": [
    "Aggrigation:"
   ]
  },
  {
   "cell_type": "code",
   "execution_count": 7,
   "metadata": {},
   "outputs": [],
   "source": [
    "class Student:\n",
    "    def __init__(self, name, student_id):\n",
    "        self.name = name\n",
    "        self.student_id = student_id\n",
    "        \n",
    "class Classroom:\n",
    "    def __init__(self, room_number):\n",
    "        self.room_number = room_number\n",
    "        self.students = []\n",
    "        \n",
    "    def add_student(self, student):\n",
    "        self.students.append(student)\n",
    "        \n",
    "class School:\n",
    "    def __init__(self, student_name):\n",
    "        self.student_name = student_name\n",
    "        self.classrooms = []\n",
    "        \n",
    "    def add_classroom(self, classroom):\n",
    "        self.classrooms.append(classroom)"
   ]
  },
  {
   "cell_type": "code",
   "execution_count": 8,
   "metadata": {},
   "outputs": [],
   "source": [
    "student1 = Student(\"Anurag\",\"0111CD221034\")\n",
    "student2 = Student(\"Prachi Sinha\", \"0111CD221124\")"
   ]
  },
  {
   "cell_type": "code",
   "execution_count": 9,
   "metadata": {},
   "outputs": [],
   "source": [
    "classroom1 = Classroom(101)\n",
    "classroom1.add_student(student1)\n",
    "\n",
    "classroom2 = Classroom(102)\n",
    "classroom2.add_student(student2)"
   ]
  },
  {
   "cell_type": "code",
   "execution_count": 10,
   "metadata": {},
   "outputs": [],
   "source": [
    "school = School(\"Technocrats Instritute of Technology\")\n",
    "school.add_classroom(classroom1)\n",
    "school.add_classroom(classroom2)"
   ]
  },
  {
   "cell_type": "code",
   "execution_count": 11,
   "metadata": {},
   "outputs": [
    {
     "name": "stdout",
     "output_type": "stream",
     "text": [
      "Students in Classroom 101:\n",
      "  - Anurag\n",
      "Students in Classroom 102:\n",
      "  - Prachi Sinha\n"
     ]
    }
   ],
   "source": [
    "for classroom in school.classrooms:\n",
    "    print(f\"Students in Classroom {classroom.room_number}:\")\n",
    "    for student in classroom.students:\n",
    "        print(f\"  - {student.name}\")\n"
   ]
  },
  {
   "cell_type": "markdown",
   "metadata": {},
   "source": [
    "Composition :"
   ]
  },
  {
   "cell_type": "code",
   "execution_count": 1,
   "metadata": {},
   "outputs": [],
   "source": [
    "class Engine :\n",
    "    def start(self):\n",
    "        return \"Engine Started!!!!\"\n",
    "    \n",
    "class Car :\n",
    "    def __init__ (self, make, model):\n",
    "        self.make = make\n",
    "        self.model = model\n",
    "        self.engine = Engine()\n",
    "        \n",
    "    def start_engine(self):\n",
    "        return self.engine.start()\n",
    "    "
   ]
  },
  {
   "cell_type": "code",
   "execution_count": 2,
   "metadata": {},
   "outputs": [
    {
     "name": "stdout",
     "output_type": "stream",
     "text": [
      "Car : Toyota Camry\n",
      "Engine Started!!!!\n"
     ]
    }
   ],
   "source": [
    "my_car = Car(\"Toyota\", \"Camry\")\n",
    "print(f\"Car : {my_car.make} {my_car.model}\")\n",
    "print(my_car.start_engine())"
   ]
  },
  {
   "cell_type": "code",
   "execution_count": 3,
   "metadata": {},
   "outputs": [
    {
     "name": "stdout",
     "output_type": "stream",
     "text": [
      "Area: 78.5\n",
      "Perimeter: 31.400000000000002\n"
     ]
    }
   ],
   "source": [
    "from abc import ABC, abstractmethod\n",
    "\n",
    "# Define an abstract class\n",
    "class Shape(ABC):\n",
    "    @abstractmethod\n",
    "    def area(self):\n",
    "        pass\n",
    "\n",
    "    @abstractmethod\n",
    "    def perimeter(self):\n",
    "        pass\n",
    "\n",
    "# Implement a concrete class that extends the abstract class\n",
    "class Circle(Shape):\n",
    "    def __init__(self, radius):\n",
    "        self.radius = radius\n",
    "\n",
    "    def area(self):\n",
    "        return 3.14 * self.radius**2\n",
    "\n",
    "    def perimeter(self):\n",
    "        return 2 * 3.14 * self.radius\n",
    "\n",
    "# Create an instance of the concrete class\n",
    "circle = Circle(radius=5)\n",
    "\n",
    "# Call methods on the instance\n",
    "print(\"Area:\", circle.area())\n",
    "print(\"Perimeter:\", circle.perimeter())"
   ]
  },
  {
   "cell_type": "code",
   "execution_count": null,
   "metadata": {},
   "outputs": [],
   "source": []
  }
 ],
 "metadata": {
  "kernelspec": {
   "display_name": "Python 3",
   "language": "python",
   "name": "python3"
  },
  "language_info": {
   "codemirror_mode": {
    "name": "ipython",
    "version": 3
   },
   "file_extension": ".py",
   "mimetype": "text/x-python",
   "name": "python",
   "nbconvert_exporter": "python",
   "pygments_lexer": "ipython3",
   "version": "3.11.5"
  }
 },
 "nbformat": 4,
 "nbformat_minor": 2
}
