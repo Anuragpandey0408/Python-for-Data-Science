{
 "cells": [
  {
   "cell_type": "code",
   "execution_count": 3,
   "metadata": {},
   "outputs": [],
   "source": [
    "class pwskill :\n",
    "    def welcome_msg(self) :\n",
    "        print(\"welcome to pwskill\")"
   ]
  },
  {
   "cell_type": "code",
   "execution_count": 4,
   "metadata": {},
   "outputs": [],
   "source": [
    "rohan = pwskill()"
   ]
  },
  {
   "cell_type": "code",
   "execution_count": 5,
   "metadata": {},
   "outputs": [
    {
     "name": "stdout",
     "output_type": "stream",
     "text": [
      "welcome to pwskill\n"
     ]
    }
   ],
   "source": [
    "rohan.welcome_msg()"
   ]
  },
  {
   "cell_type": "code",
   "execution_count": 6,
   "metadata": {},
   "outputs": [],
   "source": [
    "anurag = pwskill()"
   ]
  },
  {
   "cell_type": "code",
   "execution_count": 7,
   "metadata": {},
   "outputs": [
    {
     "name": "stdout",
     "output_type": "stream",
     "text": [
      "welcome to pwskill\n"
     ]
    }
   ],
   "source": [
    "anurag.welcome_msg()"
   ]
  },
  {
   "cell_type": "code",
   "execution_count": 9,
   "metadata": {},
   "outputs": [],
   "source": [
    "class pwskills1():\n",
    "    def __init__(self, student_id, email_id, phone_no) :\n",
    "        self.student_id = student_id\n",
    "        self.email_id = email_id\n",
    "        self.phone_no = phone_no\n",
    "    def return_student_detail(self) :\n",
    "        return self.student_id, self.email_id, self.phone_no\n",
    "        "
   ]
  },
  {
   "cell_type": "code",
   "execution_count": 11,
   "metadata": {},
   "outputs": [
    {
     "ename": "TypeError",
     "evalue": "pwskills1.__init__() missing 3 required positional arguments: 'student_id', 'email_id', and 'phone_no'",
     "output_type": "error",
     "traceback": [
      "\u001b[1;31m---------------------------------------------------------------------------\u001b[0m",
      "\u001b[1;31mTypeError\u001b[0m                                 Traceback (most recent call last)",
      "\u001b[1;32md:\\PYTHON CODE AREA\\OOPS.ipynb Cell 7\u001b[0m line \u001b[0;36m1\n\u001b[1;32m----> <a href='vscode-notebook-cell:/d%3A/PYTHON%20CODE%20AREA/OOPS.ipynb#X10sZmlsZQ%3D%3D?line=0'>1</a>\u001b[0m anurag \u001b[39m=\u001b[39m pwskills1()\n",
      "\u001b[1;31mTypeError\u001b[0m: pwskills1.__init__() missing 3 required positional arguments: 'student_id', 'email_id', and 'phone_no'"
     ]
    }
   ],
   "source": [
    "anurag = pwskills1()"
   ]
  },
  {
   "cell_type": "code",
   "execution_count": 12,
   "metadata": {},
   "outputs": [],
   "source": [
    "anurag = pwskills1(500, \"anurag077269@gmail.com\", 7089219061)"
   ]
  },
  {
   "cell_type": "code",
   "execution_count": 14,
   "metadata": {},
   "outputs": [
    {
     "data": {
      "text/plain": [
       "(500, 'anurag077269@gmail.com', 7089219061)"
      ]
     },
     "execution_count": 14,
     "metadata": {},
     "output_type": "execute_result"
    }
   ],
   "source": [
    "anurag.return_student_detail()"
   ]
  },
  {
   "cell_type": "code",
   "execution_count": 15,
   "metadata": {},
   "outputs": [
    {
     "data": {
      "text/plain": [
       "'anurag077269@gmail.com'"
      ]
     },
     "execution_count": 15,
     "metadata": {},
     "output_type": "execute_result"
    }
   ],
   "source": [
    "anurag.email_id"
   ]
  },
  {
   "cell_type": "code",
   "execution_count": 16,
   "metadata": {},
   "outputs": [
    {
     "data": {
      "text/plain": [
       "7089219061"
      ]
     },
     "execution_count": 16,
     "metadata": {},
     "output_type": "execute_result"
    }
   ],
   "source": [
    "anurag.phone_no"
   ]
  },
  {
   "cell_type": "code",
   "execution_count": 17,
   "metadata": {},
   "outputs": [
    {
     "data": {
      "text/plain": [
       "500"
      ]
     },
     "execution_count": 17,
     "metadata": {},
     "output_type": "execute_result"
    }
   ],
   "source": [
    "anurag.student_id"
   ]
  },
  {
   "cell_type": "code",
   "execution_count": 20,
   "metadata": {},
   "outputs": [],
   "source": [
    "class pwskills2():\n",
    "    def __init__(self, student_id1, email_id1, phone_no1) :\n",
    "        self.student_id = student_id1\n",
    "        self.email_id = email_id1\n",
    "        self.phone_no = phone_no1\n",
    "    def return_student_detail(self) :\n",
    "        return self.student_id, self.email_id, self.phone_no\n",
    "        "
   ]
  },
  {
   "cell_type": "code",
   "execution_count": 21,
   "metadata": {},
   "outputs": [],
   "source": [
    "anu = pwskills2(502, \"anu@gmail.com\", 852479621)"
   ]
  },
  {
   "cell_type": "code",
   "execution_count": 22,
   "metadata": {},
   "outputs": [
    {
     "ename": "AttributeError",
     "evalue": "'pwskills2' object has no attribute 'phone_no1'",
     "output_type": "error",
     "traceback": [
      "\u001b[1;31m---------------------------------------------------------------------------\u001b[0m",
      "\u001b[1;31mAttributeError\u001b[0m                            Traceback (most recent call last)",
      "\u001b[1;32md:\\PYTHON CODE AREA\\OOPS.ipynb Cell 15\u001b[0m line \u001b[0;36m1\n\u001b[1;32m----> <a href='vscode-notebook-cell:/d%3A/PYTHON%20CODE%20AREA/OOPS.ipynb#X21sZmlsZQ%3D%3D?line=0'>1</a>\u001b[0m anu\u001b[39m.\u001b[39;49mphone_no1\n",
      "\u001b[1;31mAttributeError\u001b[0m: 'pwskills2' object has no attribute 'phone_no1'"
     ]
    }
   ],
   "source": [
    "anu.phone_no1"
   ]
  },
  {
   "cell_type": "code",
   "execution_count": 35,
   "metadata": {},
   "outputs": [],
   "source": [
    "class pwskills3():\n",
    "    def __init__(self, student_id, email_id, phone_no) :\n",
    "        self.student_id2 = student_id\n",
    "        self.email_id2 = email_id\n",
    "        self.phone_no2 = phone_no\n",
    "    def return_student_detail(self) :\n",
    "        return self.student_id2, self.email_id2, self.phone_no2\n",
    "        "
   ]
  },
  {
   "cell_type": "code",
   "execution_count": 36,
   "metadata": {},
   "outputs": [],
   "source": [
    "pra = pwskills3(503, \"pra@info.in\", 564641612311)"
   ]
  },
  {
   "cell_type": "code",
   "execution_count": 37,
   "metadata": {},
   "outputs": [
    {
     "data": {
      "text/plain": [
       "503"
      ]
     },
     "execution_count": 37,
     "metadata": {},
     "output_type": "execute_result"
    }
   ],
   "source": [
    "pra.student_id2"
   ]
  },
  {
   "cell_type": "code",
   "execution_count": 38,
   "metadata": {},
   "outputs": [
    {
     "data": {
      "text/plain": [
       "564641612311"
      ]
     },
     "execution_count": 38,
     "metadata": {},
     "output_type": "execute_result"
    }
   ],
   "source": [
    "pra.phone_no2"
   ]
  },
  {
   "cell_type": "code",
   "execution_count": 39,
   "metadata": {},
   "outputs": [
    {
     "data": {
      "text/plain": [
       "'pra@info.in'"
      ]
     },
     "execution_count": 39,
     "metadata": {},
     "output_type": "execute_result"
    }
   ],
   "source": [
    "pra.email_id2"
   ]
  },
  {
   "cell_type": "code",
   "execution_count": 40,
   "metadata": {},
   "outputs": [
    {
     "data": {
      "text/plain": [
       "(503, 'pra@info.in', 564641612311)"
      ]
     },
     "execution_count": 40,
     "metadata": {},
     "output_type": "execute_result"
    }
   ],
   "source": [
    "pra.return_student_detail()"
   ]
  },
  {
   "cell_type": "code",
   "execution_count": 41,
   "metadata": {},
   "outputs": [],
   "source": [
    "class pwskills4():\n",
    "    def __init__(self, student_id, email_id, phone_no) :\n",
    "        self.student_id \n",
    "        self.email_id \n",
    "        self.phone_no \n",
    "    def return_student_detail(self) :\n",
    "        return self.student_id, self.email_id, self.phone_no\n",
    "        "
   ]
  },
  {
   "cell_type": "code",
   "execution_count": 42,
   "metadata": {},
   "outputs": [
    {
     "ename": "AttributeError",
     "evalue": "'pwskills4' object has no attribute 'student_id'",
     "output_type": "error",
     "traceback": [
      "\u001b[1;31m---------------------------------------------------------------------------\u001b[0m",
      "\u001b[1;31mAttributeError\u001b[0m                            Traceback (most recent call last)",
      "\u001b[1;32md:\\PYTHON CODE AREA\\OOPS.ipynb Cell 23\u001b[0m line \u001b[0;36m1\n\u001b[1;32m----> <a href='vscode-notebook-cell:/d%3A/PYTHON%20CODE%20AREA/OOPS.ipynb#X32sZmlsZQ%3D%3D?line=0'>1</a>\u001b[0m rishabh \u001b[39m=\u001b[39m pwskills4(\u001b[39m504\u001b[39;49m, \u001b[39m\"\u001b[39;49m\u001b[39mrish@123info.in\u001b[39;49m\u001b[39m\"\u001b[39;49m, \u001b[39m16841646841641\u001b[39;49m)\n",
      "\u001b[1;32md:\\PYTHON CODE AREA\\OOPS.ipynb Cell 23\u001b[0m line \u001b[0;36m3\n\u001b[0;32m      <a href='vscode-notebook-cell:/d%3A/PYTHON%20CODE%20AREA/OOPS.ipynb#X32sZmlsZQ%3D%3D?line=1'>2</a>\u001b[0m \u001b[39mdef\u001b[39;00m \u001b[39m__init__\u001b[39m(\u001b[39mself\u001b[39m, student_id, email_id, phone_no) :\n\u001b[1;32m----> <a href='vscode-notebook-cell:/d%3A/PYTHON%20CODE%20AREA/OOPS.ipynb#X32sZmlsZQ%3D%3D?line=2'>3</a>\u001b[0m     \u001b[39mself\u001b[39;49m\u001b[39m.\u001b[39;49mstudent_id \n\u001b[0;32m      <a href='vscode-notebook-cell:/d%3A/PYTHON%20CODE%20AREA/OOPS.ipynb#X32sZmlsZQ%3D%3D?line=3'>4</a>\u001b[0m     \u001b[39mself\u001b[39m\u001b[39m.\u001b[39memail_id \n\u001b[0;32m      <a href='vscode-notebook-cell:/d%3A/PYTHON%20CODE%20AREA/OOPS.ipynb#X32sZmlsZQ%3D%3D?line=4'>5</a>\u001b[0m     \u001b[39mself\u001b[39m\u001b[39m.\u001b[39mphone_no\n",
      "\u001b[1;31mAttributeError\u001b[0m: 'pwskills4' object has no attribute 'student_id'"
     ]
    }
   ],
   "source": [
    "rishabh = pwskills4(504, \"rish@123info.in\", 16841646841641)"
   ]
  },
  {
   "cell_type": "code",
   "execution_count": 43,
   "metadata": {},
   "outputs": [],
   "source": [
    "class pwskills5():\n",
    "    def __init__(prachi, student_id, email_id, phone_no) :\n",
    "        prachi.student_id = student_id\n",
    "        prachi.email_id = email_id\n",
    "        prachi.phone_no = phone_no\n",
    "    def return_student_detail(prachi) :\n",
    "        return prachi.student_id, prachi.email_id, prachi.phone_no\n",
    "        "
   ]
  },
  {
   "cell_type": "code",
   "execution_count": 44,
   "metadata": {},
   "outputs": [],
   "source": [
    "pupu = pwskills5(507, \"pupu@info.in\", 8435266463)"
   ]
  },
  {
   "cell_type": "code",
   "execution_count": 45,
   "metadata": {},
   "outputs": [
    {
     "data": {
      "text/plain": [
       "'pupu@info.in'"
      ]
     },
     "execution_count": 45,
     "metadata": {},
     "output_type": "execute_result"
    }
   ],
   "source": [
    "pupu.email_id"
   ]
  },
  {
   "cell_type": "code",
   "execution_count": 46,
   "metadata": {},
   "outputs": [
    {
     "data": {
      "text/plain": [
       "8435266463"
      ]
     },
     "execution_count": 46,
     "metadata": {},
     "output_type": "execute_result"
    }
   ],
   "source": [
    "pupu.phone_no"
   ]
  },
  {
   "cell_type": "code",
   "execution_count": 48,
   "metadata": {},
   "outputs": [
    {
     "data": {
      "text/plain": [
       "507"
      ]
     },
     "execution_count": 48,
     "metadata": {},
     "output_type": "execute_result"
    }
   ],
   "source": [
    "pupu.student_id"
   ]
  }
 ],
 "metadata": {
  "kernelspec": {
   "display_name": "Python 3",
   "language": "python",
   "name": "python3"
  },
  "language_info": {
   "codemirror_mode": {
    "name": "ipython",
    "version": 3
   },
   "file_extension": ".py",
   "mimetype": "text/x-python",
   "name": "python",
   "nbconvert_exporter": "python",
   "pygments_lexer": "ipython3",
   "version": "3.11.5"
  }
 },
 "nbformat": 4,
 "nbformat_minor": 2
}
